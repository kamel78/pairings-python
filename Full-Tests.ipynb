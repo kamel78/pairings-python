{
 "cells": [
  {
   "cell_type": "code",
   "execution_count": 1,
   "metadata": {},
   "outputs": [
    {
     "name": "stdout",
     "output_type": "stream",
     "text": [
      "-------------------------------------------------------------------------------\n",
      "\u001b[94mFp12 arithmetic verifications tests on the BLS12-381 :\u001b[0;0m\n",
      "-------------------------------------------------------------------------------\n",
      "Multiplication test : \t\t\t\u001b[32mPassed.\u001b[0m\n",
      "Square test: \t\t\t\t\u001b[32mPassed.\u001b[0m\n",
      "Inverse test: \t\t\t\t\u001b[32mPassed.\u001b[0m\n",
      "Frobinus 1 : \t\t\t\t\u001b[32mPassed.\u001b[0m\n",
      "Frobinus 2 : \t\t\t\t\u001b[32mPassed.\u001b[0m\n",
      "Frobinus 3 : \t\t\t\t\u001b[32mPassed.\u001b[0m\n",
      "Cyclotomic powering (Karabina) : \t\u001b[32mPassed.\u001b[0m\n",
      "Cyclotomic powering (Scott) : \t\t\u001b[32mPassed.\u001b[0m\n",
      "Square root for Fp2 :\t\t\t\u001b[32mPassed.\u001b[0m\n",
      "Inverse for Fp2 : \t\t\t\u001b[32mPassed.\u001b[0m\n",
      "-------------------------------------------------------------------------------\n",
      "\u001b[94mFp12 arithmetic verifications tests on the BLS12-461 :\u001b[0;0m\n",
      "-------------------------------------------------------------------------------\n",
      "Multiplication test : \t\t\t\u001b[32mPassed.\u001b[0m\n",
      "Square test: \t\t\t\t\u001b[32mPassed.\u001b[0m\n",
      "Inverse test: \t\t\t\t\u001b[32mPassed.\u001b[0m\n",
      "Frobinus 1 : \t\t\t\t\u001b[32mPassed.\u001b[0m\n",
      "Frobinus 2 : \t\t\t\t\u001b[32mPassed.\u001b[0m\n",
      "Frobinus 3 : \t\t\t\t\u001b[32mPassed.\u001b[0m\n",
      "Cyclotomic powering (Karabina) : \t\u001b[32mPassed.\u001b[0m\n",
      "Cyclotomic powering (Scott) : \t\t\u001b[32mPassed.\u001b[0m\n",
      "Square root for Fp2 :\t\t\t\u001b[32mPassed.\u001b[0m\n",
      "Inverse for Fp2 : \t\t\t\u001b[32mPassed.\u001b[0m\n",
      "-------------------------------------------------------------------------------\n",
      "\u001b[94mFp24 arithmetic verifications tests on the BLS24-479 :\u001b[0;0m\n",
      "-------------------------------------------------------------------------------\n",
      "Multiplication test : \t\t\t\u001b[32mPassed.\u001b[0m\n",
      "Square test: \t\t\t\t\u001b[32mPassed.\u001b[0m\n",
      "Inverse test: \t\t\t\t\u001b[32mPassed.\u001b[0m\n",
      "Frobinus 1 : \t\t\t\t\u001b[32mPassed.\u001b[0m\n",
      "Frobinus 2 : \t\t\t\t\u001b[32mPassed.\u001b[0m\n",
      "Frobinus 4 : \t\t\t\t\u001b[32mPassed.\u001b[0m\n",
      "Cyclotomic powering (Karabina) : \t\u001b[32mPassed.\u001b[0m\n",
      "Cyclotomic powering (Scott) : \t\t\u001b[32mPassed.\u001b[0m\n",
      "Square root for Fp4 :\t\t\t\u001b[32mPassed.\u001b[0m\n",
      "Inverse for Fp4 : \t\t\t\u001b[32mPassed.\u001b[0m\n",
      "-------------------------------------------------------------------------------\n",
      "\u001b[94mFp24 arithmetic verifications tests on the BLS24-559 :\u001b[0;0m\n",
      "-------------------------------------------------------------------------------\n",
      "Multiplication test : \t\t\t\u001b[32mPassed.\u001b[0m\n",
      "Square test: \t\t\t\t\u001b[32mPassed.\u001b[0m\n",
      "Inverse test: \t\t\t\t\u001b[32mPassed.\u001b[0m\n",
      "Frobinus 1 : \t\t\t\t\u001b[32mPassed.\u001b[0m\n",
      "Frobinus 2 : \t\t\t\t\u001b[32mPassed.\u001b[0m\n",
      "Frobinus 4 : \t\t\t\t\u001b[32mPassed.\u001b[0m\n",
      "Cyclotomic powering (Karabina) : \t\u001b[32mPassed.\u001b[0m\n",
      "Cyclotomic powering (Scott) : \t\t\u001b[32mPassed.\u001b[0m\n",
      "Square root for Fp4 :\t\t\t\u001b[32mPassed.\u001b[0m\n",
      "Inverse for Fp4 : \t\t\t\u001b[32mPassed.\u001b[0m\n",
      "-------------------------------------------------------------------------------\n",
      "\u001b[94mFp48 arithmetic verifications tests on the BLS48-575 :\u001b[0;0m\n",
      "-------------------------------------------------------------------------------\n",
      "Multiplication test : \t\t\t\u001b[32mPassed.\u001b[0m\n",
      "Square test: \t\t\t\t\u001b[32mPassed.\u001b[0m\n",
      "Inverse test: \t\t\t\t\u001b[32mPassed.\u001b[0m\n",
      "Frobinus 1 : \t\t\t\t\u001b[32mPassed.\u001b[0m\n",
      "Frobinus 2 : \t\t\t\t\u001b[32mPassed.\u001b[0m\n",
      "Frobinus 4 : \t\t\t\t\u001b[32mPassed.\u001b[0m\n",
      "Frobinus 8 : \t\t\t\t\u001b[32mPassed.\u001b[0m\n",
      "Cyclotomic powering (Karabina) : \t\u001b[32mPassed.\u001b[0m\n",
      "Cyclotomic powering (Scott) : \t\t\u001b[32mPassed.\u001b[0m\n",
      "Square root for Fp8 :\t\t\t\u001b[32mPassed.\u001b[0m\n",
      "Inverse for Fp8 : \t\t\t\u001b[32mPassed.\u001b[0m\n"
     ]
    }
   ],
   "source": [
    "# Full Arithmetics tests on implemented field : Fp2, Fp4, Fp8, Fp12, Fp24, Fp48\n",
    "import libs.Tests as Ts\n",
    "Ts.RunArithmeticTests()"
   ]
  },
  {
   "cell_type": "code",
   "execution_count": null,
   "metadata": {},
   "outputs": [],
   "source": [
    "# Full Elliptic Curves tests on implemented curves : E(Fp), E(Fp2), E(Fp4), E(Fp8)\n",
    "import libs.Tests as Ts\n",
    "Ts.RunEllipticCurvesTest()"
   ]
  },
  {
   "cell_type": "code",
   "execution_count": null,
   "metadata": {},
   "outputs": [],
   "source": [
    "# Full Pairings computation tests on implemented curves : BLS12, BLS24, BLS48\n",
    "import libs.Tests as Ts\n",
    "Ts.RunPairingsTest()"
   ]
  }
 ],
 "metadata": {
  "kernelspec": {
   "display_name": "Venv10",
   "language": "python",
   "name": "python3"
  },
  "language_info": {
   "codemirror_mode": {
    "name": "ipython",
    "version": 3
   },
   "file_extension": ".py",
   "mimetype": "text/x-python",
   "name": "python",
   "nbconvert_exporter": "python",
   "pygments_lexer": "ipython3",
   "version": "3.10.6"
  }
 },
 "nbformat": 4,
 "nbformat_minor": 2
}
